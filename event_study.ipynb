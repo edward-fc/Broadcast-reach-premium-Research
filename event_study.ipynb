{
 "cells": [
  {
   "cell_type": "markdown",
   "metadata": {},
   "source": [
    "## Event Study: 3-day CAR for a single ticker"
   ]
  },
  {
   "cell_type": "code",
   "execution_count": null,
   "metadata": {},
   "outputs": [],
   "source": [
    "import pandas as pd\n",
    "import numpy as np\n",
    "from eventstudy import EventStudy\n",
    "\n",
    "# load price bars\n",
    "df = pd.read_csv('sample_bars.csv', parse_dates=['Datetime'], index_col='Datetime')\n",
    "\n",
    "# define event day (use first tweet timestamp)\n",
    "event_time = pd.read_csv('sample_tweets_annotated.csv', parse_dates=['created_at'])['created_at'].min()\n",
    "event_date = event_time.date()\n",
    "\n",
    "# instantiate EventStudy\n",
    "es = EventStudy(\n",
    "    prices=df['Close'],\n",
    "    event_dates=[event_date],\n",
    "    market_model_window=(-60, -11),\n",
    "    event_window=(0, 3)\n",
    ")\n",
    "\n",
    "# run analysis\n",
    "car = es.run()\n",
    "car.to_csv('sample_CAR.csv')\n",
    "car.head()"
   ]
  }
 ],
 "metadata": {
  "language_info": {
   "name": "python"
  }
 },
 "nbformat": 4,
 "nbformat_minor": 2
}
